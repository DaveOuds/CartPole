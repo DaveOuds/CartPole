{
 "cells": [
  {
   "cell_type": "code",
   "execution_count": 1,
   "metadata": {},
   "outputs": [],
   "source": [
    "# TF Agents\n",
    "\n",
    "# Packages: pip install tf-nightly tf-agents-nightly pillow matplotlib gym\n",
    "\n",
    "from __future__ import absolute_import\n",
    "from __future__ import division\n",
    "from __future__ import print_function\n",
    "\n",
    "import PIL\n",
    "import os\n",
    "import time\n",
    "import tensorflow as tf\n",
    "import matplotlib.pyplot as plt\n",
    "\n",
    "from tf_agents.agents.dqn import dqn_agent\n",
    "from tf_agents.agents.dqn import q_network\n",
    "from tf_agents.drivers import dynamic_step_driver\n",
    "from tf_agents.environments import suite_gym\n",
    "from tf_agents.environments import gym_wrapper\n",
    "from tf_agents.environments import tf_py_environment\n",
    "from tf_agents.environments import trajectory\n",
    "from tf_agents.metrics import metric_utils\n",
    "from tf_agents.metrics import tf_metrics\n",
    "from tf_agents.policies import random_tf_policy\n",
    "from tf_agents.replay_buffers import tf_uniform_replay_buffer\n",
    "from tf_agents.utils import common\n",
    "\n",
    "from PIL import Image\n",
    "\n",
    "from IPython.display import HTML\n",
    "from IPython.display import Image\n",
    "from IPython.display import display\n",
    "\n",
    "# Hyperparameters \n",
    "num_iterations = 5000\n",
    "initial_collect_steps = 1000\n",
    "collect_steps_per_iteration = 1 \n",
    "replay_buffer_capacity = 100000\n",
    "fc_layer_params = (100,)\n",
    "batch_size = 64\n",
    "learning_rate = 1e-3\n",
    "log_interval = 200  \n",
    "num_eval_episodes = 10\n",
    "eval_interval = 1000\n",
    "\n",
    "# !!!!!!!!!!!!!!!!!!\n",
    "tf.compat.v1.enable_v2_behavior()"
   ]
  },
  {
   "cell_type": "code",
   "execution_count": 2,
   "metadata": {},
   "outputs": [],
   "source": [
    "# Functions\n",
    "\n",
    "def create_gif(env):\n",
    "    gif = []\n",
    "    for i in range(200):\n",
    "        gif.append(PIL.Image.fromarray(env.render(mode='rgb_array')))\n",
    "        env.step(env.action_space.sample())\n",
    "\n",
    "    filename = str(time.time()) +'.gif'\n",
    "    print(filename)\n",
    "    gif[0].save(filename, format='GIF', append_images=gif[1:], save_all=True, duration=90, loop=0)\n",
    "    display(Image(url=filename))\n",
    "\n",
    "    time.sleep(0.1) # To display the file BEFORE it removes it\n",
    "    os.remove(filename)\n",
    "    \n",
    "def compute_avg_return(environment, policy, num_episodes=10):\n",
    "  total_return = 0.0\n",
    "  for _ in range(num_episodes):\n",
    "\n",
    "    time_step = environment.reset()\n",
    "    episode_return = 0.0\n",
    "\n",
    "    while not time_step.is_last():\n",
    "      action_step = policy.action(time_step)\n",
    "      time_step = environment.step(action_step.action)\n",
    "      episode_return += time_step.reward\n",
    "    total_return += episode_return\n",
    "\n",
    "  avg_return = total_return / num_episodes\n",
    "  return avg_return.numpy()[0]\n",
    "\n",
    "def collect_step(environment, policy):\n",
    "  time_step = environment.current_time_step()\n",
    "  action_step = policy.action(time_step)\n",
    "  next_time_step = environment.step(action_step.action)\n",
    "  traj = trajectory.from_transition(time_step, action_step, next_time_step)\n",
    "\n",
    "  replay_buffer.add_batch(traj) # Add trajectory to the replay buffer"
   ]
  },
  {
   "cell_type": "code",
   "execution_count": 3,
   "metadata": {
    "scrolled": false
   },
   "outputs": [
    {
     "name": "stdout",
     "output_type": "stream",
     "text": [
      "1554715686.4494634.gif\n"
     ]
    },
    {
     "data": {
      "text/html": [
       "<img src=\"1554715686.4494634.gif\"/>"
      ],
      "text/plain": [
       "<IPython.core.display.Image object>"
      ]
     },
     "metadata": {},
     "output_type": "display_data"
    }
   ],
   "source": [
    "# ENV init \n",
    "tf_env = suite_gym.load('CartPole-v0')\n",
    "tf_env.reset()\n",
    "\n",
    "train_env = tf_py_environment.TFPyEnvironment(tf_env)\n",
    "eval_env = tf_py_environment.TFPyEnvironment(tf_env)\n",
    "\n",
    "create_gif(tf_env)"
   ]
  },
  {
   "cell_type": "code",
   "execution_count": 4,
   "metadata": {},
   "outputs": [],
   "source": [
    "# Agent (DQN)\n",
    "q_net = q_network.QNetwork(\n",
    "    train_env.observation_spec(),\n",
    "    train_env.action_spec(),\n",
    "    fc_layer_params=fc_layer_params)\n",
    "\n",
    "optimizer = tf.compat.v1.train.AdamOptimizer(learning_rate=learning_rate)\n",
    "\n",
    "train_step_counter = tf.compat.v2.Variable(0)\n",
    "\n",
    "tf_agent = dqn_agent.DqnAgent(\n",
    "    train_env.time_step_spec(),\n",
    "    train_env.action_spec(),\n",
    "    q_network=q_net,\n",
    "    optimizer=optimizer,\n",
    "    td_errors_loss_fn=dqn_agent.element_wise_squared_loss,\n",
    "    train_step_counter=train_step_counter)\n",
    "tf_agent.initialize()"
   ]
  },
  {
   "cell_type": "code",
   "execution_count": 5,
   "metadata": {},
   "outputs": [
    {
     "name": "stderr",
     "output_type": "stream",
     "text": [
      "WARNING: Logging before flag parsing goes to stderr.\n",
      "W0405 11:10:31.347745 140453646894912 backprop.py:818] The dtype of the watched tensor must be floating (e.g. tf.float32), got tf.int64\n",
      "W0405 11:10:31.355251 140453646894912 backprop.py:818] The dtype of the watched tensor must be floating (e.g. tf.float32), got tf.int64\n",
      "W0405 11:10:31.362432 140453646894912 backprop.py:818] The dtype of the watched tensor must be floating (e.g. tf.float32), got tf.int64\n",
      "W0405 11:10:31.371007 140453646894912 backprop.py:818] The dtype of the watched tensor must be floating (e.g. tf.float32), got tf.int64\n",
      "W0405 11:10:31.377259 140453646894912 backprop.py:818] The dtype of the watched tensor must be floating (e.g. tf.float32), got tf.int64\n"
     ]
    }
   ],
   "source": [
    "# Policy\n",
    "eval_policy = tf_agent.policy\n",
    "collect_policy = tf_agent.collect_policy\n",
    "\n",
    "random_policy = random_tf_policy.RandomTFPolicy(train_env.time_step_spec(),\n",
    "                                                train_env.action_spec())\n",
    "\n",
    "compute_avg_return(eval_env, random_policy, num_eval_episodes)\n",
    "\n",
    "replay_buffer = tf_uniform_replay_buffer.TFUniformReplayBuffer(\n",
    "    data_spec=tf_agent.collect_data_spec,\n",
    "    batch_size=train_env.batch_size,\n",
    "    max_length=replay_buffer_capacity)\n",
    "\n",
    "for _ in range(initial_collect_steps):\n",
    "  collect_step(train_env, random_policy)\n",
    "\n",
    "dataset = replay_buffer.as_dataset(\n",
    "    num_parallel_calls=3, sample_batch_size=batch_size, num_steps=2).prefetch(3)\n",
    "\n",
    "iterator = iter(dataset)\n"
   ]
  },
  {
   "cell_type": "code",
   "execution_count": 6,
   "metadata": {},
   "outputs": [
    {
     "name": "stdout",
     "output_type": "stream",
     "text": [
      "step = 200: loss = 13.24293327331543\n",
      "step = 400: loss = 28.239105224609375\n",
      "step = 600: loss = 45.36333465576172\n",
      "step = 800: loss = 28.141746520996094\n",
      "step = 1000: loss = 41.08706283569336\n",
      "step = 1000: Average Return = 23.700000762939453\n",
      "step = 1200: loss = 32.47084045410156\n",
      "step = 1400: loss = 22.452899932861328\n",
      "step = 1600: loss = 29.250328063964844\n",
      "step = 1800: loss = 20.4435977935791\n",
      "step = 2000: loss = 34.661781311035156\n",
      "step = 2000: Average Return = 66.30000305175781\n",
      "step = 2200: loss = 59.59206008911133\n",
      "step = 2400: loss = 75.27734375\n",
      "step = 2600: loss = 54.35028076171875\n",
      "step = 2800: loss = 73.85121154785156\n",
      "step = 3000: loss = 52.80146026611328\n",
      "step = 3000: Average Return = 77.69999694824219\n",
      "step = 3200: loss = 126.77091979980469\n",
      "step = 3400: loss = 19.332561492919922\n",
      "step = 3600: loss = 96.30709838867188\n",
      "step = 3800: loss = 105.86681365966797\n",
      "step = 4000: loss = 82.61153411865234\n",
      "step = 4000: Average Return = 58.0\n",
      "step = 4200: loss = 112.8319091796875\n",
      "step = 4400: loss = 106.68423461914062\n",
      "step = 4600: loss = 44.203392028808594\n",
      "step = 4800: loss = 21.823884963989258\n",
      "step = 5000: loss = 135.94552612304688\n",
      "step = 5000: Average Return = 56.79999923706055\n",
      "1554455518.814952.gif\n"
     ]
    },
    {
     "data": {
      "text/html": [
       "<img src=\"1554455518.814952.gif\"/>"
      ],
      "text/plain": [
       "<IPython.core.display.Image object>"
      ]
     },
     "metadata": {},
     "output_type": "display_data"
    },
    {
     "data": {
      "image/png": "[encoded data removed]",
      "text/plain": [
       "<Figure size 432x288 with 1 Axes>"
      ]
     },
     "metadata": {
      "needs_background": "light"
     },
     "output_type": "display_data"
    }
   ],
   "source": [
    "# Training\n",
    "\n",
    "tf_agent.train = common.function(tf_agent.train) # (Optional) Optimize by wrapping some of the code in a graph using TF function.\n",
    "\n",
    "tf_agent.train_step_counter.assign(0) # Reset the train step\n",
    "\n",
    "avg_return = compute_avg_return(eval_env, tf_agent.policy, num_eval_episodes) # Evaluate the agent's policy once before training.\n",
    "returns = [avg_return]\n",
    "\n",
    "for _ in range(num_iterations):\n",
    "\n",
    "  # Collect a few steps using collect_policy and save to the replay buffer.\n",
    "  for _ in range(collect_steps_per_iteration):\n",
    "    collect_step(train_env, tf_agent.collect_policy)\n",
    "\n",
    "  # Sample a batch of data from the buffer and update the agent's network.\n",
    "  experience, unused_info = next(iterator)\n",
    "  train_loss = tf_agent.train(experience)\n",
    "\n",
    "  step = tf_agent.train_step_counter.numpy()\n",
    "\n",
    "  if step % log_interval == 0:\n",
    "    print('step = {0}: loss = {1}'.format(step, train_loss.loss))\n",
    "\n",
    "  if step % eval_interval == 0:\n",
    "    avg_return = compute_avg_return(eval_env, tf_agent.policy, num_eval_episodes)\n",
    "    print('step = {0}: Average Return = {1}'.format(step, avg_return))\n",
    "    returns.append(avg_return)"
   ]
  },
  {
   "cell_type": "code",
   "execution_count": null,
   "metadata": {},
   "outputs": [],
   "source": [
    "# Evaluation\n",
    "\n",
    "steps = range(0, num_iterations + 1, eval_interval)\n",
    "plt.plot(steps, returns)\n",
    "plt.ylabel('Average Return')\n",
    "plt.xlabel('Step')\n",
    "plt.ylim(top=250)\n",
    "\n",
    "create_gif(tf_env)"
   ]
  },
  {
   "cell_type": "code",
   "execution_count": null,
   "metadata": {},
   "outputs": [],
   "source": [
    "# Export"
   ]
  }
 ],
 "metadata": {
  "kernelspec": {
   "display_name": "TFAgents",
   "language": "python",
   "name": "tfagents"
  },
  "language_info": {
   "codemirror_mode": {
    "name": "ipython",
    "version": 3
   },
   "file_extension": ".py",
   "mimetype": "text/x-python",
   "name": "python",
   "nbconvert_exporter": "python",
   "pygments_lexer": "ipython3",
   "version": "3.6.7"
  }
 },
 "nbformat": 4,
 "nbformat_minor": 2
}
