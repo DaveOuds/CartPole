{
 "cells": [
  {
   "cell_type": "code",
   "execution_count": 5,
   "metadata": {},
   "outputs": [],
   "source": [
    "# Keras-RL\n",
    "\n",
    "# Packages: pip install keras-rl tensorflow gym\n",
    "\n",
    "import numpy as np\n",
    "import gym\n",
    "\n",
    "from keras.models import Sequential\n",
    "from keras.layers import Dense, Activation, Flatten\n",
    "from keras.optimizers import Adam\n",
    "\n",
    "from rl.agents.dqn import DQNAgent\n",
    "from rl.policy import BoltzmannQPolicy\n",
    "from rl.memory import SequentialMemory"
   ]
  },
  {
   "cell_type": "code",
   "execution_count": null,
   "metadata": {},
   "outputs": [],
   "source": [
    "# Environment init and extract the number of actions.\n",
    "env = gym.make('CartPole-v0')\n",
    "np.random.seed(123)\n",
    "env.seed(123)\n",
    "nb_actions = env.action_space.n"
   ]
  },
  {
   "cell_type": "code",
   "execution_count": 7,
   "metadata": {},
   "outputs": [],
   "source": [
    "# Agent\n",
    "model = Sequential()\n",
    "model.add(Flatten(input_shape=(1,) + env.observation_space.shape))\n",
    "model.add(Dense(16))\n",
    "model.add(Activation('relu'))\n",
    "model.add(Dense(16))\n",
    "model.add(Activation('relu'))\n",
    "model.add(Dense(16))\n",
    "model.add(Activation('relu'))\n",
    "model.add(Dense(nb_actions))\n",
    "model.add(Activation('linear'))\n",
    "print(model.summary())\n",
    "\n",
    "memory = SequentialMemory(limit=50000, window_length=1)\n",
    "policy = BoltzmannQPolicy()\n",
    "dqn = DQNAgent(model=model, nb_actions=nb_actions, memory=memory, nb_steps_warmup=10,\n",
    "               target_model_update=1e-2, policy=policy)\n",
    "dqn.compile(Adam(lr=1e-3), metrics=['mae'])"
   ]
  },
  {
   "cell_type": "code",
   "execution_count": null,
   "metadata": {},
   "outputs": [
    {
     "name": "stdout",
     "output_type": "stream",
     "text": [
      "Training for 50000 steps ...\n",
      "WARNING:tensorflow:From /home/oudshd/krl/lib/python3.6/site-packages/tensorflow/python/ops/math_ops.py:3066: to_int32 (from tensorflow.python.ops.math_ops) is deprecated and will be removed in a future version.\n",
      "Instructions for updating:\n",
      "Use tf.cast instead.\n"
     ]
    },
    {
     "name": "stderr",
     "output_type": "stream",
     "text": [
      "/home/oudshd/krl/lib/python3.6/site-packages/rl/memory.py:39: UserWarning: Not enough entries to sample without replacement. Consider increasing your warm-up phase to avoid oversampling!\n",
      "  warnings.warn('Not enough entries to sample without replacement. Consider increasing your warm-up phase to avoid oversampling!')\n"
     ]
    },
    {
     "name": "stdout",
     "output_type": "stream",
     "text": [
      "    31/50000: episode: 1, duration: 3.851s, episode steps: 31, steps per second: 8, episode reward: 31.000, mean reward: 1.000 [1.000, 1.000], mean action: 0.419 [0.000, 1.000], mean observation: 0.013 [-1.185, 1.776], loss: 0.461963, mean_absolute_error: 0.519561, mean_q: 0.093668\n",
      "    44/50000: episode: 2, duration: 0.108s, episode steps: 13, steps per second: 120, episode reward: 13.000, mean reward: 1.000 [1.000, 1.000], mean action: 0.692 [0.000, 1.000], mean observation: -0.069 [-1.867, 1.224], loss: 0.354955, mean_absolute_error: 0.539455, mean_q: 0.278580\n"
     ]
    },
    {
     "name": "stderr",
     "output_type": "stream",
     "text": [
      "/home/oudshd/krl/lib/python3.6/site-packages/rl/memory.py:39: UserWarning: Not enough entries to sample without replacement. Consider increasing your warm-up phase to avoid oversampling!\n",
      "  warnings.warn('Not enough entries to sample without replacement. Consider increasing your warm-up phase to avoid oversampling!')\n"
     ]
    },
    {
     "name": "stdout",
     "output_type": "stream",
     "text": [
      "    64/50000: episode: 3, duration: 0.179s, episode steps: 20, steps per second: 112, episode reward: 20.000, mean reward: 1.000 [1.000, 1.000], mean action: 0.550 [0.000, 1.000], mean observation: -0.070 [-1.375, 0.833], loss: 0.232410, mean_absolute_error: 0.554170, mean_q: 0.486509\n",
      "    83/50000: episode: 4, duration: 0.238s, episode steps: 19, steps per second: 80, episode reward: 19.000, mean reward: 1.000 [1.000, 1.000], mean action: 0.421 [0.000, 1.000], mean observation: 0.074 [-0.817, 1.505], loss: 0.112918, mean_absolute_error: 0.605069, mean_q: 0.837883\n",
      "    98/50000: episode: 5, duration: 0.101s, episode steps: 15, steps per second: 148, episode reward: 15.000, mean reward: 1.000 [1.000, 1.000], mean action: 0.600 [0.000, 1.000], mean observation: -0.090 [-1.368, 0.825], loss: 0.064757, mean_absolute_error: 0.681580, mean_q: 1.132854\n",
      "   114/50000: episode: 6, duration: 0.086s, episode steps: 16, steps per second: 187, episode reward: 16.000, mean reward: 1.000 [1.000, 1.000], mean action: 0.750 [0.000, 1.000], mean observation: -0.069 [-2.711, 1.766], loss: 0.036302, mean_absolute_error: 0.704129, mean_q: 1.265235\n",
      "   128/50000: episode: 7, duration: 0.092s, episode steps: 14, steps per second: 153, episode reward: 14.000, mean reward: 1.000 [1.000, 1.000], mean action: 0.429 [0.000, 1.000], mean observation: 0.111 [-0.934, 1.483], loss: 0.029773, mean_absolute_error: 0.762435, mean_q: 1.435345\n",
      "   154/50000: episode: 8, duration: 0.157s, episode steps: 26, steps per second: 165, episode reward: 26.000, mean reward: 1.000 [1.000, 1.000], mean action: 0.308 [0.000, 1.000], mean observation: 0.037 [-1.952, 2.898], loss: 0.023499, mean_absolute_error: 0.815523, mean_q: 1.593644\n",
      "   180/50000: episode: 9, duration: 0.293s, episode steps: 26, steps per second: 89, episode reward: 26.000, mean reward: 1.000 [1.000, 1.000], mean action: 0.692 [0.000, 1.000], mean observation: -0.013 [-2.880, 1.992], loss: 0.030892, mean_absolute_error: 0.899401, mean_q: 1.795526\n",
      "   193/50000: episode: 10, duration: 0.137s, episode steps: 13, steps per second: 95, episode reward: 13.000, mean reward: 1.000 [1.000, 1.000], mean action: 0.308 [0.000, 1.000], mean observation: 0.096 [-1.006, 1.848], loss: 0.039220, mean_absolute_error: 0.966646, mean_q: 1.944107\n",
      "   208/50000: episode: 11, duration: 0.110s, episode steps: 15, steps per second: 137, episode reward: 15.000, mean reward: 1.000 [1.000, 1.000], mean action: 0.400 [0.000, 1.000], mean observation: 0.087 [-1.006, 1.547], loss: 0.038583, mean_absolute_error: 1.026319, mean_q: 2.060033\n",
      "   223/50000: episode: 12, duration: 0.082s, episode steps: 15, steps per second: 182, episode reward: 15.000, mean reward: 1.000 [1.000, 1.000], mean action: 0.667 [0.000, 1.000], mean observation: -0.096 [-1.845, 1.032], loss: 0.045879, mean_absolute_error: 1.076678, mean_q: 2.133717\n",
      "   235/50000: episode: 13, duration: 0.065s, episode steps: 12, steps per second: 186, episode reward: 12.000, mean reward: 1.000 [1.000, 1.000], mean action: 0.250 [0.000, 1.000], mean observation: 0.124 [-1.329, 2.154], loss: 0.046182, mean_absolute_error: 1.140188, mean_q: 2.286867\n",
      "   249/50000: episode: 14, duration: 0.089s, episode steps: 14, steps per second: 158, episode reward: 14.000, mean reward: 1.000 [1.000, 1.000], mean action: 0.357 [0.000, 1.000], mean observation: 0.103 [-0.965, 1.601], loss: 0.061723, mean_absolute_error: 1.215712, mean_q: 2.415525\n",
      "   264/50000: episode: 15, duration: 0.089s, episode steps: 15, steps per second: 168, episode reward: 15.000, mean reward: 1.000 [1.000, 1.000], mean action: 0.400 [0.000, 1.000], mean observation: 0.079 [-0.990, 1.675], loss: 0.077420, mean_absolute_error: 1.270033, mean_q: 2.549283\n",
      "   289/50000: episode: 16, duration: 0.210s, episode steps: 25, steps per second: 119, episode reward: 25.000, mean reward: 1.000 [1.000, 1.000], mean action: 0.360 [0.000, 1.000], mean observation: 0.054 [-1.365, 2.263], loss: 0.085540, mean_absolute_error: 1.364815, mean_q: 2.684728\n",
      "   339/50000: episode: 17, duration: 0.449s, episode steps: 50, steps per second: 111, episode reward: 50.000, mean reward: 1.000 [1.000, 1.000], mean action: 0.400 [0.000, 1.000], mean observation: -0.120 [-1.895, 2.080], loss: 0.096086, mean_absolute_error: 1.532468, mean_q: 2.999621\n",
      "   376/50000: episode: 18, duration: 0.267s, episode steps: 37, steps per second: 139, episode reward: 37.000, mean reward: 1.000 [1.000, 1.000], mean action: 0.486 [0.000, 1.000], mean observation: -0.094 [-1.154, 0.395], loss: 0.128044, mean_absolute_error: 1.739256, mean_q: 3.366962\n",
      "   400/50000: episode: 19, duration: 0.212s, episode steps: 24, steps per second: 113, episode reward: 24.000, mean reward: 1.000 [1.000, 1.000], mean action: 0.625 [0.000, 1.000], mean observation: -0.057 [-2.198, 1.213], loss: 0.166090, mean_absolute_error: 1.870378, mean_q: 3.552637\n",
      "   423/50000: episode: 20, duration: 0.138s, episode steps: 23, steps per second: 167, episode reward: 23.000, mean reward: 1.000 [1.000, 1.000], mean action: 0.391 [0.000, 1.000], mean observation: 0.063 [-1.173, 1.941], loss: 0.144333, mean_absolute_error: 1.962209, mean_q: 3.806459\n",
      "   431/50000: episode: 21, duration: 0.066s, episode steps: 8, steps per second: 121, episode reward: 8.000, mean reward: 1.000 [1.000, 1.000], mean action: 0.125 [0.000, 1.000], mean observation: 0.163 [-1.350, 2.217], loss: 0.199072, mean_absolute_error: 2.004238, mean_q: 3.804938\n",
      "   445/50000: episode: 22, duration: 0.109s, episode steps: 14, steps per second: 129, episode reward: 14.000, mean reward: 1.000 [1.000, 1.000], mean action: 0.786 [0.000, 1.000], mean observation: -0.081 [-2.452, 1.553], loss: 0.131294, mean_absolute_error: 2.041980, mean_q: 3.954106\n",
      "   460/50000: episode: 23, duration: 0.179s, episode steps: 15, steps per second: 84, episode reward: 15.000, mean reward: 1.000 [1.000, 1.000], mean action: 0.400 [0.000, 1.000], mean observation: 0.120 [-0.569, 1.388], loss: 0.141231, mean_absolute_error: 2.126523, mean_q: 4.083029\n",
      "   475/50000: episode: 24, duration: 0.147s, episode steps: 15, steps per second: 102, episode reward: 15.000, mean reward: 1.000 [1.000, 1.000], mean action: 0.400 [0.000, 1.000], mean observation: 0.111 [-0.780, 1.506], loss: 0.158804, mean_absolute_error: 2.165227, mean_q: 4.165933\n",
      "   525/50000: episode: 25, duration: 0.462s, episode steps: 50, steps per second: 108, episode reward: 50.000, mean reward: 1.000 [1.000, 1.000], mean action: 0.500 [0.000, 1.000], mean observation: -0.167 [-1.656, 0.899], loss: 0.179594, mean_absolute_error: 2.304775, mean_q: 4.450266\n",
      "   541/50000: episode: 26, duration: 0.138s, episode steps: 16, steps per second: 116, episode reward: 16.000, mean reward: 1.000 [1.000, 1.000], mean action: 0.312 [0.000, 1.000], mean observation: 0.097 [-1.170, 2.165], loss: 0.164007, mean_absolute_error: 2.471503, mean_q: 4.809776\n",
      "   558/50000: episode: 27, duration: 0.138s, episode steps: 17, steps per second: 123, episode reward: 17.000, mean reward: 1.000 [1.000, 1.000], mean action: 0.235 [0.000, 1.000], mean observation: 0.049 [-1.766, 2.652], loss: 0.163057, mean_absolute_error: 2.525756, mean_q: 4.890843\n",
      "   574/50000: episode: 28, duration: 0.105s, episode steps: 16, steps per second: 152, episode reward: 16.000, mean reward: 1.000 [1.000, 1.000], mean action: 0.438 [0.000, 1.000], mean observation: 0.084 [-0.640, 1.126], loss: 0.236712, mean_absolute_error: 2.594267, mean_q: 4.928640\n",
      "   601/50000: episode: 29, duration: 0.181s, episode steps: 27, steps per second: 150, episode reward: 27.000, mean reward: 1.000 [1.000, 1.000], mean action: 0.519 [0.000, 1.000], mean observation: -0.048 [-1.111, 0.459], loss: 0.223140, mean_absolute_error: 2.672293, mean_q: 5.134766\n",
      "   619/50000: episode: 30, duration: 0.103s, episode steps: 18, steps per second: 175, episode reward: 18.000, mean reward: 1.000 [1.000, 1.000], mean action: 0.556 [0.000, 1.000], mean observation: -0.076 [-1.150, 0.824], loss: 0.244561, mean_absolute_error: 2.762239, mean_q: 5.270489\n",
      "   654/50000: episode: 31, duration: 0.226s, episode steps: 35, steps per second: 155, episode reward: 35.000, mean reward: 1.000 [1.000, 1.000], mean action: 0.457 [0.000, 1.000], mean observation: 0.057 [-0.839, 1.777], loss: 0.247473, mean_absolute_error: 2.838068, mean_q: 5.419394\n",
      "   682/50000: episode: 32, duration: 0.169s, episode steps: 28, steps per second: 166, episode reward: 28.000, mean reward: 1.000 [1.000, 1.000], mean action: 0.429 [0.000, 1.000], mean observation: 0.038 [-0.840, 1.560], loss: 0.226275, mean_absolute_error: 2.948904, mean_q: 5.664012\n"
     ]
    },
    {
     "name": "stdout",
     "output_type": "stream",
     "text": [
      "   707/50000: episode: 33, duration: 0.159s, episode steps: 25, steps per second: 157, episode reward: 25.000, mean reward: 1.000 [1.000, 1.000], mean action: 0.400 [0.000, 1.000], mean observation: 0.055 [-1.151, 1.832], loss: 0.208872, mean_absolute_error: 3.057328, mean_q: 5.917589\n",
      "   782/50000: episode: 34, duration: 0.472s, episode steps: 75, steps per second: 159, episode reward: 75.000, mean reward: 1.000 [1.000, 1.000], mean action: 0.467 [0.000, 1.000], mean observation: -0.190 [-1.448, 0.992], loss: 0.278138, mean_absolute_error: 3.232235, mean_q: 6.206750\n",
      "   802/50000: episode: 35, duration: 0.119s, episode steps: 20, steps per second: 168, episode reward: 20.000, mean reward: 1.000 [1.000, 1.000], mean action: 0.500 [0.000, 1.000], mean observation: 0.083 [-0.614, 1.054], loss: 0.272746, mean_absolute_error: 3.462800, mean_q: 6.753606\n",
      "   851/50000: episode: 36, duration: 0.273s, episode steps: 49, steps per second: 179, episode reward: 49.000, mean reward: 1.000 [1.000, 1.000], mean action: 0.449 [0.000, 1.000], mean observation: -0.179 [-1.338, 0.957], loss: 0.266155, mean_absolute_error: 3.611106, mean_q: 7.088416\n",
      "   889/50000: episode: 37, duration: 0.233s, episode steps: 38, steps per second: 163, episode reward: 38.000, mean reward: 1.000 [1.000, 1.000], mean action: 0.474 [0.000, 1.000], mean observation: -0.130 [-0.964, 0.450], loss: 0.322569, mean_absolute_error: 3.787398, mean_q: 7.483962\n",
      "   918/50000: episode: 38, duration: 0.155s, episode steps: 29, steps per second: 187, episode reward: 29.000, mean reward: 1.000 [1.000, 1.000], mean action: 0.552 [0.000, 1.000], mean observation: -0.038 [-1.322, 0.990], loss: 0.381101, mean_absolute_error: 3.948617, mean_q: 7.732701\n",
      "   933/50000: episode: 39, duration: 0.095s, episode steps: 15, steps per second: 158, episode reward: 15.000, mean reward: 1.000 [1.000, 1.000], mean action: 0.333 [0.000, 1.000], mean observation: 0.078 [-1.371, 2.097], loss: 0.242361, mean_absolute_error: 4.076467, mean_q: 8.064110\n",
      "   955/50000: episode: 40, duration: 0.119s, episode steps: 22, steps per second: 185, episode reward: 22.000, mean reward: 1.000 [1.000, 1.000], mean action: 0.500 [0.000, 1.000], mean observation: 0.065 [-0.800, 1.334], loss: 0.346820, mean_absolute_error: 4.151053, mean_q: 8.234939\n",
      "   964/50000: episode: 41, duration: 0.055s, episode steps: 9, steps per second: 164, episode reward: 9.000, mean reward: 1.000 [1.000, 1.000], mean action: 0.333 [0.000, 1.000], mean observation: 0.150 [-0.979, 1.655], loss: 0.275794, mean_absolute_error: 4.166571, mean_q: 8.261281\n",
      "   975/50000: episode: 42, duration: 0.072s, episode steps: 11, steps per second: 154, episode reward: 11.000, mean reward: 1.000 [1.000, 1.000], mean action: 0.273 [0.000, 1.000], mean observation: 0.100 [-1.033, 1.721], loss: 0.268050, mean_absolute_error: 4.199322, mean_q: 8.338233\n",
      "  1005/50000: episode: 43, duration: 0.173s, episode steps: 30, steps per second: 174, episode reward: 30.000, mean reward: 1.000 [1.000, 1.000], mean action: 0.567 [0.000, 1.000], mean observation: 0.038 [-1.356, 1.193], loss: 0.395291, mean_absolute_error: 4.273209, mean_q: 8.459056\n",
      "  1084/50000: episode: 44, duration: 0.457s, episode steps: 79, steps per second: 173, episode reward: 79.000, mean reward: 1.000 [1.000, 1.000], mean action: 0.532 [0.000, 1.000], mean observation: 0.189 [-1.453, 1.923], loss: 0.412174, mean_absolute_error: 4.504478, mean_q: 8.950181\n",
      "  1117/50000: episode: 45, duration: 0.204s, episode steps: 33, steps per second: 162, episode reward: 33.000, mean reward: 1.000 [1.000, 1.000], mean action: 0.515 [0.000, 1.000], mean observation: 0.107 [-0.669, 1.028], loss: 0.298691, mean_absolute_error: 4.813766, mean_q: 9.685758\n",
      "  1317/50000: episode: 46, duration: 1.287s, episode steps: 200, steps per second: 155, episode reward: 200.000, mean reward: 1.000 [1.000, 1.000], mean action: 0.480 [0.000, 1.000], mean observation: 0.059 [-1.647, 1.540], loss: 0.509599, mean_absolute_error: 5.282492, mean_q: 10.566758\n",
      "  1517/50000: episode: 47, duration: 1.094s, episode steps: 200, steps per second: 183, episode reward: 200.000, mean reward: 1.000 [1.000, 1.000], mean action: 0.490 [0.000, 1.000], mean observation: -0.061 [-1.847, 1.507], loss: 0.718060, mean_absolute_error: 6.160735, mean_q: 12.424996\n",
      "  1621/50000: episode: 48, duration: 0.574s, episode steps: 104, steps per second: 181, episode reward: 104.000, mean reward: 1.000 [1.000, 1.000], mean action: 0.462 [0.000, 1.000], mean observation: -0.350 [-2.260, 0.991], loss: 0.804231, mean_absolute_error: 6.903440, mean_q: 13.912696\n",
      "  1721/50000: episode: 49, duration: 0.535s, episode steps: 100, steps per second: 187, episode reward: 100.000, mean reward: 1.000 [1.000, 1.000], mean action: 0.480 [0.000, 1.000], mean observation: -0.285 [-1.310, 0.775], loss: 0.713000, mean_absolute_error: 7.385828, mean_q: 14.950813\n",
      "  1878/50000: episode: 50, duration: 1.117s, episode steps: 157, steps per second: 141, episode reward: 157.000, mean reward: 1.000 [1.000, 1.000], mean action: 0.478 [0.000, 1.000], mean observation: -0.200 [-1.526, 1.084], loss: 0.781293, mean_absolute_error: 7.982643, mean_q: 16.178570\n",
      "  2048/50000: episode: 51, duration: 0.971s, episode steps: 170, steps per second: 175, episode reward: 170.000, mean reward: 1.000 [1.000, 1.000], mean action: 0.476 [0.000, 1.000], mean observation: -0.208 [-1.829, 0.989], loss: 0.934470, mean_absolute_error: 8.784434, mean_q: 17.858891\n",
      "  2194/50000: episode: 52, duration: 0.893s, episode steps: 146, steps per second: 164, episode reward: 146.000, mean reward: 1.000 [1.000, 1.000], mean action: 0.459 [0.000, 1.000], mean observation: -0.360 [-2.594, 0.923], loss: 1.214246, mean_absolute_error: 9.556906, mean_q: 19.344765\n",
      "  2311/50000: episode: 53, duration: 0.652s, episode steps: 117, steps per second: 179, episode reward: 117.000, mean reward: 1.000 [1.000, 1.000], mean action: 0.462 [0.000, 1.000], mean observation: -0.403 [-1.895, 0.662], loss: 1.513903, mean_absolute_error: 10.130284, mean_q: 20.422913\n",
      "  2445/50000: episode: 54, duration: 0.786s, episode steps: 134, steps per second: 171, episode reward: 134.000, mean reward: 1.000 [1.000, 1.000], mean action: 0.463 [0.000, 1.000], mean observation: -0.388 [-2.391, 0.977], loss: 1.122323, mean_absolute_error: 10.679755, mean_q: 21.621866\n",
      "  2578/50000: episode: 55, duration: 0.828s, episode steps: 133, steps per second: 161, episode reward: 133.000, mean reward: 1.000 [1.000, 1.000], mean action: 0.474 [0.000, 1.000], mean observation: -0.201 [-1.265, 0.816], loss: 1.107802, mean_absolute_error: 11.241817, mean_q: 22.829672\n",
      "  2759/50000: episode: 56, duration: 0.992s, episode steps: 181, steps per second: 183, episode reward: 181.000, mean reward: 1.000 [1.000, 1.000], mean action: 0.475 [0.000, 1.000], mean observation: -0.283 [-1.920, 0.861], loss: 1.240730, mean_absolute_error: 11.971914, mean_q: 24.292618\n",
      "  2959/50000: episode: 57, duration: 1.239s, episode steps: 200, steps per second: 161, episode reward: 200.000, mean reward: 1.000 [1.000, 1.000], mean action: 0.500 [0.000, 1.000], mean observation: 0.090 [-1.015, 1.008], loss: 1.360792, mean_absolute_error: 12.832175, mean_q: 26.021391\n",
      "  3139/50000: episode: 58, duration: 1.167s, episode steps: 180, steps per second: 154, episode reward: 180.000, mean reward: 1.000 [1.000, 1.000], mean action: 0.478 [0.000, 1.000], mean observation: -0.301 [-2.073, 1.107], loss: 1.794336, mean_absolute_error: 13.753668, mean_q: 27.918663\n",
      "  3320/50000: episode: 59, duration: 1.008s, episode steps: 181, steps per second: 180, episode reward: 181.000, mean reward: 1.000 [1.000, 1.000], mean action: 0.475 [0.000, 1.000], mean observation: -0.282 [-2.061, 0.773], loss: 1.594709, mean_absolute_error: 14.542559, mean_q: 29.541073\n",
      "  3512/50000: episode: 60, duration: 1.141s, episode steps: 192, steps per second: 168, episode reward: 192.000, mean reward: 1.000 [1.000, 1.000], mean action: 0.469 [0.000, 1.000], mean observation: -0.313 [-2.432, 0.809], loss: 1.762455, mean_absolute_error: 15.425092, mean_q: 31.296410\n",
      "  3672/50000: episode: 61, duration: 0.938s, episode steps: 160, steps per second: 171, episode reward: 160.000, mean reward: 1.000 [1.000, 1.000], mean action: 0.469 [0.000, 1.000], mean observation: -0.291 [-1.824, 0.846], loss: 2.070356, mean_absolute_error: 16.128153, mean_q: 32.704975\n"
     ]
    },
    {
     "name": "stdout",
     "output_type": "stream",
     "text": [
      "  3813/50000: episode: 62, duration: 0.849s, episode steps: 141, steps per second: 166, episode reward: 141.000, mean reward: 1.000 [1.000, 1.000], mean action: 0.468 [0.000, 1.000], mean observation: -0.364 [-2.040, 0.995], loss: 1.980775, mean_absolute_error: 16.725084, mean_q: 33.954712\n",
      "  3964/50000: episode: 63, duration: 0.855s, episode steps: 151, steps per second: 177, episode reward: 151.000, mean reward: 1.000 [1.000, 1.000], mean action: 0.464 [0.000, 1.000], mean observation: -0.404 [-2.423, 0.769], loss: 2.305156, mean_absolute_error: 17.269373, mean_q: 35.032097\n",
      "  4111/50000: episode: 64, duration: 0.764s, episode steps: 147, steps per second: 193, episode reward: 147.000, mean reward: 1.000 [1.000, 1.000], mean action: 0.456 [0.000, 1.000], mean observation: -0.418 [-2.524, 0.842], loss: 1.507174, mean_absolute_error: 17.780977, mean_q: 36.104591\n",
      "  4249/50000: episode: 65, duration: 0.946s, episode steps: 138, steps per second: 146, episode reward: 138.000, mean reward: 1.000 [1.000, 1.000], mean action: 0.457 [0.000, 1.000], mean observation: -0.424 [-2.590, 0.691], loss: 2.600857, mean_absolute_error: 18.381266, mean_q: 37.169052\n",
      "  4425/50000: episode: 66, duration: 1.123s, episode steps: 176, steps per second: 157, episode reward: 176.000, mean reward: 1.000 [1.000, 1.000], mean action: 0.472 [0.000, 1.000], mean observation: -0.357 [-2.430, 0.906], loss: 1.984167, mean_absolute_error: 19.020897, mean_q: 38.486851\n",
      "  4591/50000: episode: 67, duration: 1.110s, episode steps: 166, steps per second: 150, episode reward: 166.000, mean reward: 1.000 [1.000, 1.000], mean action: 0.458 [0.000, 1.000], mean observation: -0.388 [-2.574, 1.024], loss: 2.922888, mean_absolute_error: 19.754936, mean_q: 40.050961\n",
      "  4767/50000: episode: 68, duration: 0.936s, episode steps: 176, steps per second: 188, episode reward: 176.000, mean reward: 1.000 [1.000, 1.000], mean action: 0.472 [0.000, 1.000], mean observation: -0.349 [-2.410, 0.674], loss: 2.371320, mean_absolute_error: 20.262756, mean_q: 41.125233\n",
      "  4930/50000: episode: 69, duration: 0.911s, episode steps: 163, steps per second: 179, episode reward: 163.000, mean reward: 1.000 [1.000, 1.000], mean action: 0.460 [0.000, 1.000], mean observation: -0.390 [-2.435, 0.537], loss: 3.130514, mean_absolute_error: 20.829805, mean_q: 42.243431\n",
      "  5124/50000: episode: 70, duration: 1.105s, episode steps: 194, steps per second: 176, episode reward: 194.000, mean reward: 1.000 [1.000, 1.000], mean action: 0.469 [0.000, 1.000], mean observation: -0.332 [-2.424, 0.962], loss: 2.853734, mean_absolute_error: 21.471352, mean_q: 43.578247\n",
      "  5316/50000: episode: 71, duration: 1.044s, episode steps: 192, steps per second: 184, episode reward: 192.000, mean reward: 1.000 [1.000, 1.000], mean action: 0.474 [0.000, 1.000], mean observation: -0.331 [-2.415, 0.824], loss: 2.508770, mean_absolute_error: 22.090815, mean_q: 44.918140\n",
      "  5510/50000: episode: 72, duration: 1.014s, episode steps: 194, steps per second: 191, episode reward: 194.000, mean reward: 1.000 [1.000, 1.000], mean action: 0.474 [0.000, 1.000], mean observation: -0.327 [-2.432, 0.763], loss: 2.581582, mean_absolute_error: 22.817707, mean_q: 46.287975\n",
      "  5666/50000: episode: 73, duration: 0.845s, episode steps: 156, steps per second: 185, episode reward: 156.000, mean reward: 1.000 [1.000, 1.000], mean action: 0.462 [0.000, 1.000], mean observation: -0.396 [-2.428, 0.800], loss: 2.268824, mean_absolute_error: 23.511705, mean_q: 47.648743\n",
      "  5866/50000: episode: 74, duration: 1.255s, episode steps: 200, steps per second: 159, episode reward: 200.000, mean reward: 1.000 [1.000, 1.000], mean action: 0.480 [0.000, 1.000], mean observation: -0.169 [-1.629, 0.630], loss: 2.335756, mean_absolute_error: 24.097918, mean_q: 48.931198\n",
      "  6043/50000: episode: 75, duration: 1.094s, episode steps: 177, steps per second: 162, episode reward: 177.000, mean reward: 1.000 [1.000, 1.000], mean action: 0.463 [0.000, 1.000], mean observation: -0.360 [-2.433, 0.753], loss: 3.083919, mean_absolute_error: 24.775633, mean_q: 50.126759\n",
      "  6243/50000: episode: 76, duration: 1.103s, episode steps: 200, steps per second: 181, episode reward: 200.000, mean reward: 1.000 [1.000, 1.000], mean action: 0.500 [0.000, 1.000], mean observation: 0.037 [-1.034, 0.884], loss: 2.792363, mean_absolute_error: 25.448858, mean_q: 51.564854\n",
      "  6421/50000: episode: 77, duration: 0.982s, episode steps: 178, steps per second: 181, episode reward: 178.000, mean reward: 1.000 [1.000, 1.000], mean action: 0.461 [0.000, 1.000], mean observation: -0.357 [-2.547, 0.854], loss: 3.494587, mean_absolute_error: 26.035101, mean_q: 52.750668\n",
      "  6621/50000: episode: 78, duration: 1.234s, episode steps: 200, steps per second: 162, episode reward: 200.000, mean reward: 1.000 [1.000, 1.000], mean action: 0.470 [0.000, 1.000], mean observation: -0.233 [-2.166, 0.897], loss: 2.837509, mean_absolute_error: 26.752529, mean_q: 54.163754\n",
      "  6821/50000: episode: 79, duration: 1.154s, episode steps: 200, steps per second: 173, episode reward: 200.000, mean reward: 1.000 [1.000, 1.000], mean action: 0.490 [0.000, 1.000], mean observation: -0.074 [-1.078, 0.640], loss: 3.003802, mean_absolute_error: 27.369268, mean_q: 55.517990\n",
      "  6993/50000: episode: 80, duration: 0.910s, episode steps: 172, steps per second: 189, episode reward: 172.000, mean reward: 1.000 [1.000, 1.000], mean action: 0.465 [0.000, 1.000], mean observation: -0.363 [-2.410, 0.742], loss: 4.532557, mean_absolute_error: 27.801556, mean_q: 56.266285\n",
      "  7193/50000: episode: 81, duration: 1.106s, episode steps: 200, steps per second: 181, episode reward: 200.000, mean reward: 1.000 [1.000, 1.000], mean action: 0.475 [0.000, 1.000], mean observation: -0.234 [-2.005, 0.821], loss: 3.820611, mean_absolute_error: 28.350758, mean_q: 57.371632\n",
      "  7393/50000: episode: 82, duration: 1.083s, episode steps: 200, steps per second: 185, episode reward: 200.000, mean reward: 1.000 [1.000, 1.000], mean action: 0.470 [0.000, 1.000], mean observation: -0.248 [-2.157, 0.672], loss: 4.155510, mean_absolute_error: 28.914936, mean_q: 58.642067\n",
      "  7572/50000: episode: 83, duration: 1.005s, episode steps: 179, steps per second: 178, episode reward: 179.000, mean reward: 1.000 [1.000, 1.000], mean action: 0.464 [0.000, 1.000], mean observation: -0.359 [-2.442, 0.764], loss: 4.648599, mean_absolute_error: 29.355652, mean_q: 59.258663\n",
      "  7772/50000: episode: 84, duration: 1.118s, episode steps: 200, steps per second: 179, episode reward: 200.000, mean reward: 1.000 [1.000, 1.000], mean action: 0.500 [0.000, 1.000], mean observation: 0.025 [-0.856, 0.878], loss: 4.384666, mean_absolute_error: 30.023018, mean_q: 60.627705\n",
      "  7972/50000: episode: 85, duration: 1.115s, episode steps: 200, steps per second: 179, episode reward: 200.000, mean reward: 1.000 [1.000, 1.000], mean action: 0.490 [0.000, 1.000], mean observation: -0.070 [-1.163, 1.103], loss: 3.623458, mean_absolute_error: 30.373770, mean_q: 61.457840\n",
      "  8167/50000: episode: 86, duration: 1.032s, episode steps: 195, steps per second: 189, episode reward: 195.000, mean reward: 1.000 [1.000, 1.000], mean action: 0.467 [0.000, 1.000], mean observation: -0.319 [-2.568, 0.706], loss: 1.976136, mean_absolute_error: 30.963476, mean_q: 62.720364\n",
      "  8340/50000: episode: 87, duration: 1.249s, episode steps: 173, steps per second: 138, episode reward: 173.000, mean reward: 1.000 [1.000, 1.000], mean action: 0.462 [0.000, 1.000], mean observation: -0.363 [-2.524, 0.896], loss: 5.942015, mean_absolute_error: 31.316545, mean_q: 63.172451\n",
      "  8527/50000: episode: 88, duration: 1.930s, episode steps: 187, steps per second: 97, episode reward: 187.000, mean reward: 1.000 [1.000, 1.000], mean action: 0.471 [0.000, 1.000], mean observation: -0.341 [-2.435, 0.618], loss: 5.774582, mean_absolute_error: 31.640604, mean_q: 63.870476\n",
      "  8727/50000: episode: 89, duration: 1.441s, episode steps: 200, steps per second: 139, episode reward: 200.000, mean reward: 1.000 [1.000, 1.000], mean action: 0.480 [0.000, 1.000], mean observation: -0.247 [-2.046, 0.737], loss: 3.008674, mean_absolute_error: 32.104153, mean_q: 64.905060\n",
      "  8912/50000: episode: 90, duration: 1.189s, episode steps: 185, steps per second: 156, episode reward: 185.000, mean reward: 1.000 [1.000, 1.000], mean action: 0.470 [0.000, 1.000], mean observation: -0.342 [-2.401, 0.755], loss: 6.985689, mean_absolute_error: 32.394669, mean_q: 65.301468\n"
     ]
    },
    {
     "name": "stdout",
     "output_type": "stream",
     "text": [
      "  9088/50000: episode: 91, duration: 1.212s, episode steps: 176, steps per second: 145, episode reward: 176.000, mean reward: 1.000 [1.000, 1.000], mean action: 0.472 [0.000, 1.000], mean observation: -0.356 [-2.428, 0.832], loss: 3.781599, mean_absolute_error: 32.608410, mean_q: 65.797050\n",
      "  9268/50000: episode: 92, duration: 1.022s, episode steps: 180, steps per second: 176, episode reward: 180.000, mean reward: 1.000 [1.000, 1.000], mean action: 0.467 [0.000, 1.000], mean observation: -0.354 [-2.424, 0.842], loss: 3.746078, mean_absolute_error: 32.901924, mean_q: 66.537415\n",
      "  9417/50000: episode: 93, duration: 0.832s, episode steps: 149, steps per second: 179, episode reward: 149.000, mean reward: 1.000 [1.000, 1.000], mean action: 0.463 [0.000, 1.000], mean observation: -0.416 [-2.414, 0.819], loss: 4.270190, mean_absolute_error: 33.508572, mean_q: 67.677818\n",
      "  9600/50000: episode: 94, duration: 1.031s, episode steps: 183, steps per second: 178, episode reward: 183.000, mean reward: 1.000 [1.000, 1.000], mean action: 0.470 [0.000, 1.000], mean observation: -0.352 [-2.444, 0.777], loss: 5.381504, mean_absolute_error: 33.391174, mean_q: 67.385483\n",
      "  9800/50000: episode: 95, duration: 1.206s, episode steps: 200, steps per second: 166, episode reward: 200.000, mean reward: 1.000 [1.000, 1.000], mean action: 0.485 [0.000, 1.000], mean observation: -0.110 [-1.269, 0.852], loss: 5.163599, mean_absolute_error: 33.911358, mean_q: 68.421768\n",
      " 10000/50000: episode: 96, duration: 1.112s, episode steps: 200, steps per second: 180, episode reward: 200.000, mean reward: 1.000 [1.000, 1.000], mean action: 0.470 [0.000, 1.000], mean observation: -0.278 [-2.143, 0.873], loss: 5.241464, mean_absolute_error: 34.295475, mean_q: 69.167725\n",
      " 10186/50000: episode: 97, duration: 1.098s, episode steps: 186, steps per second: 169, episode reward: 186.000, mean reward: 1.000 [1.000, 1.000], mean action: 0.468 [0.000, 1.000], mean observation: -0.353 [-2.433, 0.936], loss: 4.540685, mean_absolute_error: 34.573273, mean_q: 69.761589\n",
      " 10386/50000: episode: 98, duration: 1.108s, episode steps: 200, steps per second: 181, episode reward: 200.000, mean reward: 1.000 [1.000, 1.000], mean action: 0.480 [0.000, 1.000], mean observation: -0.136 [-1.441, 0.876], loss: 3.680722, mean_absolute_error: 34.659401, mean_q: 70.046638\n",
      " 10578/50000: episode: 99, duration: 1.038s, episode steps: 192, steps per second: 185, episode reward: 192.000, mean reward: 1.000 [1.000, 1.000], mean action: 0.469 [0.000, 1.000], mean observation: -0.331 [-2.405, 1.091], loss: 3.515678, mean_absolute_error: 35.244637, mean_q: 71.249321\n",
      " 10749/50000: episode: 100, duration: 0.943s, episode steps: 171, steps per second: 181, episode reward: 171.000, mean reward: 1.000 [1.000, 1.000], mean action: 0.474 [0.000, 1.000], mean observation: -0.378 [-2.433, 0.808], loss: 3.851124, mean_absolute_error: 35.400055, mean_q: 71.409645\n",
      " 10921/50000: episode: 101, duration: 1.054s, episode steps: 172, steps per second: 163, episode reward: 172.000, mean reward: 1.000 [1.000, 1.000], mean action: 0.471 [0.000, 1.000], mean observation: -0.361 [-2.573, 0.775], loss: 7.834947, mean_absolute_error: 35.437153, mean_q: 71.266853\n",
      " 11096/50000: episode: 102, duration: 0.987s, episode steps: 175, steps per second: 177, episode reward: 175.000, mean reward: 1.000 [1.000, 1.000], mean action: 0.463 [0.000, 1.000], mean observation: -0.367 [-2.426, 0.705], loss: 5.889132, mean_absolute_error: 35.853073, mean_q: 72.270615\n",
      " 11296/50000: episode: 103, duration: 1.155s, episode steps: 200, steps per second: 173, episode reward: 200.000, mean reward: 1.000 [1.000, 1.000], mean action: 0.490 [0.000, 1.000], mean observation: -0.108 [-1.100, 0.869], loss: 5.192272, mean_absolute_error: 35.898537, mean_q: 72.307854\n",
      " 11494/50000: episode: 104, duration: 1.034s, episode steps: 198, steps per second: 191, episode reward: 198.000, mean reward: 1.000 [1.000, 1.000], mean action: 0.470 [0.000, 1.000], mean observation: -0.314 [-2.418, 0.890], loss: 4.109841, mean_absolute_error: 36.246998, mean_q: 73.063469\n",
      " 11694/50000: episode: 105, duration: 1.079s, episode steps: 200, steps per second: 185, episode reward: 200.000, mean reward: 1.000 [1.000, 1.000], mean action: 0.480 [0.000, 1.000], mean observation: -0.207 [-1.858, 0.955], loss: 3.783303, mean_absolute_error: 36.462334, mean_q: 73.502922\n",
      " 11894/50000: episode: 106, duration: 1.317s, episode steps: 200, steps per second: 152, episode reward: 200.000, mean reward: 1.000 [1.000, 1.000], mean action: 0.490 [0.000, 1.000], mean observation: -0.083 [-0.948, 0.858], loss: 3.787012, mean_absolute_error: 36.771576, mean_q: 74.160896\n",
      " 12094/50000: episode: 107, duration: 1.324s, episode steps: 200, steps per second: 151, episode reward: 200.000, mean reward: 1.000 [1.000, 1.000], mean action: 0.510 [0.000, 1.000], mean observation: 0.149 [-1.096, 1.514], loss: 3.958227, mean_absolute_error: 37.076344, mean_q: 74.821709\n",
      " 12294/50000: episode: 108, duration: 1.105s, episode steps: 200, steps per second: 181, episode reward: 200.000, mean reward: 1.000 [1.000, 1.000], mean action: 0.515 [0.000, 1.000], mean observation: 0.191 [-0.873, 1.519], loss: 6.825302, mean_absolute_error: 37.645947, mean_q: 75.784225\n",
      " 12494/50000: episode: 109, duration: 1.438s, episode steps: 200, steps per second: 139, episode reward: 200.000, mean reward: 1.000 [1.000, 1.000], mean action: 0.510 [0.000, 1.000], mean observation: 0.162 [-1.152, 1.725], loss: 6.376017, mean_absolute_error: 38.163734, mean_q: 76.810181\n",
      " 12694/50000: episode: 110, duration: 1.084s, episode steps: 200, steps per second: 184, episode reward: 200.000, mean reward: 1.000 [1.000, 1.000], mean action: 0.475 [0.000, 1.000], mean observation: -0.258 [-2.035, 0.979], loss: 5.497255, mean_absolute_error: 37.935970, mean_q: 76.453606\n",
      " 12892/50000: episode: 111, duration: 1.237s, episode steps: 198, steps per second: 160, episode reward: 198.000, mean reward: 1.000 [1.000, 1.000], mean action: 0.470 [0.000, 1.000], mean observation: -0.322 [-2.432, 0.753], loss: 8.724577, mean_absolute_error: 38.547554, mean_q: 77.397018\n",
      " 13082/50000: episode: 112, duration: 1.377s, episode steps: 190, steps per second: 138, episode reward: 190.000, mean reward: 1.000 [1.000, 1.000], mean action: 0.463 [0.000, 1.000], mean observation: -0.324 [-2.748, 0.873], loss: 16.399773, mean_absolute_error: 38.396030, mean_q: 77.009567\n",
      " 13282/50000: episode: 113, duration: 1.921s, episode steps: 200, steps per second: 104, episode reward: 200.000, mean reward: 1.000 [1.000, 1.000], mean action: 0.500 [0.000, 1.000], mean observation: 0.036 [-0.907, 1.072], loss: 5.567367, mean_absolute_error: 38.413612, mean_q: 77.344353\n",
      " 13482/50000: episode: 114, duration: 1.629s, episode steps: 200, steps per second: 123, episode reward: 200.000, mean reward: 1.000 [1.000, 1.000], mean action: 0.500 [0.000, 1.000], mean observation: -0.026 [-0.870, 0.911], loss: 2.151495, mean_absolute_error: 38.927555, mean_q: 78.641075\n",
      " 13682/50000: episode: 115, duration: 1.268s, episode steps: 200, steps per second: 158, episode reward: 200.000, mean reward: 1.000 [1.000, 1.000], mean action: 0.520 [0.000, 1.000], mean observation: 0.107 [-1.012, 1.462], loss: 5.459197, mean_absolute_error: 39.164864, mean_q: 78.955574\n",
      " 13859/50000: episode: 116, duration: 1.281s, episode steps: 177, steps per second: 138, episode reward: 177.000, mean reward: 1.000 [1.000, 1.000], mean action: 0.508 [0.000, 1.000], mean observation: 0.243 [-1.008, 1.836], loss: 6.986630, mean_absolute_error: 39.682121, mean_q: 79.841675\n",
      " 14026/50000: episode: 117, duration: 1.034s, episode steps: 167, steps per second: 161, episode reward: 167.000, mean reward: 1.000 [1.000, 1.000], mean action: 0.461 [0.000, 1.000], mean observation: -0.376 [-2.418, 0.771], loss: 9.774880, mean_absolute_error: 39.508659, mean_q: 79.441467\n",
      " 14226/50000: episode: 118, duration: 1.221s, episode steps: 200, steps per second: 164, episode reward: 200.000, mean reward: 1.000 [1.000, 1.000], mean action: 0.475 [0.000, 1.000], mean observation: -0.247 [-2.038, 0.860], loss: 7.175579, mean_absolute_error: 39.819347, mean_q: 80.164642\n",
      " 14426/50000: episode: 119, duration: 1.261s, episode steps: 200, steps per second: 159, episode reward: 200.000, mean reward: 1.000 [1.000, 1.000], mean action: 0.475 [0.000, 1.000], mean observation: -0.285 [-2.201, 0.920], loss: 11.455940, mean_absolute_error: 39.979191, mean_q: 80.390968\n"
     ]
    },
    {
     "name": "stdout",
     "output_type": "stream",
     "text": [
      " 14626/50000: episode: 120, duration: 1.304s, episode steps: 200, steps per second: 153, episode reward: 200.000, mean reward: 1.000 [1.000, 1.000], mean action: 0.485 [0.000, 1.000], mean observation: -0.100 [-1.063, 1.073], loss: 9.878106, mean_absolute_error: 39.805923, mean_q: 79.991867\n",
      " 14825/50000: episode: 121, duration: 1.097s, episode steps: 199, steps per second: 181, episode reward: 199.000, mean reward: 1.000 [1.000, 1.000], mean action: 0.467 [0.000, 1.000], mean observation: -0.318 [-2.610, 1.111], loss: 11.446517, mean_absolute_error: 40.320412, mean_q: 80.980164\n",
      " 15010/50000: episode: 122, duration: 0.972s, episode steps: 185, steps per second: 190, episode reward: 185.000, mean reward: 1.000 [1.000, 1.000], mean action: 0.514 [0.000, 1.000], mean observation: 0.184 [-1.170, 1.859], loss: 6.463132, mean_absolute_error: 40.439072, mean_q: 81.409157\n",
      " 15171/50000: episode: 123, duration: 0.846s, episode steps: 161, steps per second: 190, episode reward: 161.000, mean reward: 1.000 [1.000, 1.000], mean action: 0.466 [0.000, 1.000], mean observation: -0.394 [-2.438, 0.742], loss: 3.717615, mean_absolute_error: 40.451530, mean_q: 81.622971\n",
      " 15281/50000: episode: 124, duration: 0.580s, episode steps: 110, steps per second: 190, episode reward: 110.000, mean reward: 1.000 [1.000, 1.000], mean action: 0.509 [0.000, 1.000], mean observation: 0.184 [-1.097, 1.411], loss: 9.990499, mean_absolute_error: 39.884964, mean_q: 80.391487\n",
      " 15481/50000: episode: 125, duration: 1.054s, episode steps: 200, steps per second: 190, episode reward: 200.000, mean reward: 1.000 [1.000, 1.000], mean action: 0.515 [0.000, 1.000], mean observation: 0.107 [-1.206, 1.493], loss: 15.703103, mean_absolute_error: 40.590679, mean_q: 81.484589\n",
      " 15681/50000: episode: 126, duration: 1.154s, episode steps: 200, steps per second: 173, episode reward: 200.000, mean reward: 1.000 [1.000, 1.000], mean action: 0.480 [0.000, 1.000], mean observation: -0.201 [-1.823, 0.804], loss: 6.510773, mean_absolute_error: 41.087391, mean_q: 82.695801\n",
      " 15881/50000: episode: 127, duration: 1.396s, episode steps: 200, steps per second: 143, episode reward: 200.000, mean reward: 1.000 [1.000, 1.000], mean action: 0.495 [0.000, 1.000], mean observation: -0.014 [-0.705, 0.787], loss: 9.344455, mean_absolute_error: 41.167377, mean_q: 82.831879\n",
      " 16039/50000: episode: 128, duration: 0.980s, episode steps: 158, steps per second: 161, episode reward: 158.000, mean reward: 1.000 [1.000, 1.000], mean action: 0.519 [0.000, 1.000], mean observation: 0.196 [-1.023, 1.547], loss: 9.575752, mean_absolute_error: 41.381519, mean_q: 83.139168\n",
      " 16239/50000: episode: 129, duration: 1.339s, episode steps: 200, steps per second: 149, episode reward: 200.000, mean reward: 1.000 [1.000, 1.000], mean action: 0.500 [0.000, 1.000], mean observation: 0.011 [-0.841, 1.186], loss: 13.429890, mean_absolute_error: 40.915325, mean_q: 82.077843\n",
      " 16390/50000: episode: 130, duration: 0.904s, episode steps: 151, steps per second: 167, episode reward: 151.000, mean reward: 1.000 [1.000, 1.000], mean action: 0.517 [0.000, 1.000], mean observation: 0.154 [-0.933, 1.184], loss: 5.873006, mean_absolute_error: 41.362164, mean_q: 83.228310\n",
      " 16588/50000: episode: 131, duration: 1.084s, episode steps: 198, steps per second: 183, episode reward: 198.000, mean reward: 1.000 [1.000, 1.000], mean action: 0.465 [0.000, 1.000], mean observation: -0.323 [-2.593, 0.990], loss: 6.966794, mean_absolute_error: 41.630089, mean_q: 83.673302\n",
      " 16760/50000: episode: 132, duration: 0.898s, episode steps: 172, steps per second: 191, episode reward: 172.000, mean reward: 1.000 [1.000, 1.000], mean action: 0.506 [0.000, 1.000], mean observation: 0.194 [-1.062, 1.845], loss: 10.257398, mean_absolute_error: 41.313992, mean_q: 82.980118\n",
      " 16960/50000: episode: 133, duration: 1.084s, episode steps: 200, steps per second: 185, episode reward: 200.000, mean reward: 1.000 [1.000, 1.000], mean action: 0.485 [0.000, 1.000], mean observation: -0.003 [-1.119, 1.298], loss: 8.765748, mean_absolute_error: 41.451851, mean_q: 83.239944\n",
      " 17153/50000: episode: 134, duration: 1.031s, episode steps: 193, steps per second: 187, episode reward: 193.000, mean reward: 1.000 [1.000, 1.000], mean action: 0.461 [0.000, 1.000], mean observation: -0.328 [-2.759, 1.356], loss: 11.022437, mean_absolute_error: 41.575947, mean_q: 83.355194\n",
      " 17353/50000: episode: 135, duration: 1.128s, episode steps: 200, steps per second: 177, episode reward: 200.000, mean reward: 1.000 [1.000, 1.000], mean action: 0.500 [0.000, 1.000], mean observation: -0.015 [-1.100, 1.129], loss: 9.702765, mean_absolute_error: 41.732975, mean_q: 83.942215\n",
      " 17553/50000: episode: 136, duration: 1.145s, episode steps: 200, steps per second: 175, episode reward: 200.000, mean reward: 1.000 [1.000, 1.000], mean action: 0.495 [0.000, 1.000], mean observation: 0.019 [-0.813, 0.897], loss: 10.010560, mean_absolute_error: 41.888195, mean_q: 84.070419\n",
      " 17739/50000: episode: 137, duration: 1.097s, episode steps: 186, steps per second: 169, episode reward: 186.000, mean reward: 1.000 [1.000, 1.000], mean action: 0.457 [0.000, 1.000], mean observation: -0.336 [-2.962, 1.210], loss: 8.803220, mean_absolute_error: 41.824440, mean_q: 84.011604\n",
      " 17908/50000: episode: 138, duration: 0.960s, episode steps: 169, steps per second: 176, episode reward: 169.000, mean reward: 1.000 [1.000, 1.000], mean action: 0.509 [0.000, 1.000], mean observation: 0.184 [-1.123, 1.512], loss: 9.126967, mean_absolute_error: 41.774586, mean_q: 83.839287\n",
      " 18108/50000: episode: 139, duration: 1.069s, episode steps: 200, steps per second: 187, episode reward: 200.000, mean reward: 1.000 [1.000, 1.000], mean action: 0.495 [0.000, 1.000], mean observation: -0.023 [-0.900, 0.938], loss: 5.973867, mean_absolute_error: 41.745094, mean_q: 83.884003\n",
      " 18308/50000: episode: 140, duration: 1.083s, episode steps: 200, steps per second: 185, episode reward: 200.000, mean reward: 1.000 [1.000, 1.000], mean action: 0.475 [0.000, 1.000], mean observation: -0.304 [-2.404, 1.270], loss: 6.445420, mean_absolute_error: 42.110069, mean_q: 84.726410\n",
      " 18508/50000: episode: 141, duration: 1.047s, episode steps: 200, steps per second: 191, episode reward: 200.000, mean reward: 1.000 [1.000, 1.000], mean action: 0.510 [0.000, 1.000], mean observation: 0.097 [-1.474, 1.412], loss: 10.754487, mean_absolute_error: 41.397213, mean_q: 83.109451\n",
      " 18695/50000: episode: 142, duration: 0.991s, episode steps: 187, steps per second: 189, episode reward: 187.000, mean reward: 1.000 [1.000, 1.000], mean action: 0.481 [0.000, 1.000], mean observation: -0.350 [-2.425, 1.294], loss: 7.469261, mean_absolute_error: 41.903622, mean_q: 84.292969\n",
      " 18857/50000: episode: 143, duration: 0.865s, episode steps: 162, steps per second: 187, episode reward: 162.000, mean reward: 1.000 [1.000, 1.000], mean action: 0.512 [0.000, 1.000], mean observation: 0.203 [-0.927, 1.718], loss: 9.166161, mean_absolute_error: 41.801704, mean_q: 84.039581\n",
      " 19057/50000: episode: 144, duration: 1.110s, episode steps: 200, steps per second: 180, episode reward: 200.000, mean reward: 1.000 [1.000, 1.000], mean action: 0.485 [0.000, 1.000], mean observation: -0.289 [-2.253, 1.099], loss: 9.137981, mean_absolute_error: 42.098351, mean_q: 84.550896\n",
      " 19257/50000: episode: 145, duration: 1.083s, episode steps: 200, steps per second: 185, episode reward: 200.000, mean reward: 1.000 [1.000, 1.000], mean action: 0.500 [0.000, 1.000], mean observation: 0.021 [-0.811, 1.072], loss: 8.102354, mean_absolute_error: 41.878494, mean_q: 84.132561\n",
      " 19398/50000: episode: 146, duration: 0.788s, episode steps: 141, steps per second: 179, episode reward: 141.000, mean reward: 1.000 [1.000, 1.000], mean action: 0.475 [0.000, 1.000], mean observation: -0.398 [-2.064, 0.923], loss: 6.147492, mean_absolute_error: 41.927021, mean_q: 84.283508\n",
      " 19583/50000: episode: 147, duration: 1.008s, episode steps: 185, steps per second: 184, episode reward: 185.000, mean reward: 1.000 [1.000, 1.000], mean action: 0.476 [0.000, 1.000], mean observation: -0.349 [-2.467, 1.506], loss: 5.735514, mean_absolute_error: 41.737938, mean_q: 83.909019\n",
      " 19728/50000: episode: 148, duration: 0.835s, episode steps: 145, steps per second: 174, episode reward: 145.000, mean reward: 1.000 [1.000, 1.000], mean action: 0.524 [0.000, 1.000], mean observation: 0.197 [-1.065, 1.316], loss: 3.036815, mean_absolute_error: 41.674973, mean_q: 83.889816\n"
     ]
    },
    {
     "name": "stdout",
     "output_type": "stream",
     "text": [
      " 19928/50000: episode: 149, duration: 1.121s, episode steps: 200, steps per second: 178, episode reward: 200.000, mean reward: 1.000 [1.000, 1.000], mean action: 0.500 [0.000, 1.000], mean observation: 0.036 [-1.013, 1.185], loss: 7.538890, mean_absolute_error: 42.041386, mean_q: 84.279358\n",
      " 20128/50000: episode: 150, duration: 1.085s, episode steps: 200, steps per second: 184, episode reward: 200.000, mean reward: 1.000 [1.000, 1.000], mean action: 0.485 [0.000, 1.000], mean observation: -0.298 [-2.260, 1.476], loss: 8.116632, mean_absolute_error: 42.133175, mean_q: 84.499435\n",
      " 20296/50000: episode: 151, duration: 0.897s, episode steps: 168, steps per second: 187, episode reward: 168.000, mean reward: 1.000 [1.000, 1.000], mean action: 0.524 [0.000, 1.000], mean observation: 0.216 [-1.115, 1.658], loss: 9.977205, mean_absolute_error: 42.029480, mean_q: 84.230583\n",
      " 20496/50000: episode: 152, duration: 1.097s, episode steps: 200, steps per second: 182, episode reward: 200.000, mean reward: 1.000 [1.000, 1.000], mean action: 0.485 [0.000, 1.000], mean observation: -0.134 [-1.955, 1.990], loss: 7.509633, mean_absolute_error: 41.794151, mean_q: 83.801895\n",
      " 20696/50000: episode: 153, duration: 1.088s, episode steps: 200, steps per second: 184, episode reward: 200.000, mean reward: 1.000 [1.000, 1.000], mean action: 0.500 [0.000, 1.000], mean observation: -0.010 [-0.910, 0.805], loss: 6.071596, mean_absolute_error: 41.760754, mean_q: 83.931740\n",
      " 20896/50000: episode: 154, duration: 1.136s, episode steps: 200, steps per second: 176, episode reward: 200.000, mean reward: 1.000 [1.000, 1.000], mean action: 0.480 [0.000, 1.000], mean observation: -0.264 [-2.457, 1.496], loss: 7.207718, mean_absolute_error: 41.312843, mean_q: 82.989288\n",
      " 21073/50000: episode: 155, duration: 0.950s, episode steps: 177, steps per second: 186, episode reward: 177.000, mean reward: 1.000 [1.000, 1.000], mean action: 0.525 [0.000, 1.000], mean observation: 0.215 [-0.963, 1.677], loss: 6.855939, mean_absolute_error: 41.647217, mean_q: 83.604019\n",
      " 21273/50000: episode: 156, duration: 1.080s, episode steps: 200, steps per second: 185, episode reward: 200.000, mean reward: 1.000 [1.000, 1.000], mean action: 0.510 [0.000, 1.000], mean observation: 0.126 [-1.083, 1.311], loss: 8.269924, mean_absolute_error: 41.402950, mean_q: 82.997406\n",
      " 21435/50000: episode: 157, duration: 0.888s, episode steps: 162, steps per second: 182, episode reward: 162.000, mean reward: 1.000 [1.000, 1.000], mean action: 0.531 [0.000, 1.000], mean observation: 0.283 [-1.038, 1.997], loss: 5.730125, mean_absolute_error: 41.309196, mean_q: 83.027321\n",
      " 21635/50000: episode: 158, duration: 1.096s, episode steps: 200, steps per second: 183, episode reward: 200.000, mean reward: 1.000 [1.000, 1.000], mean action: 0.525 [0.000, 1.000], mean observation: 0.231 [-1.162, 2.028], loss: 5.738741, mean_absolute_error: 41.461079, mean_q: 83.368095\n",
      " 21835/50000: episode: 159, duration: 1.208s, episode steps: 200, steps per second: 166, episode reward: 200.000, mean reward: 1.000 [1.000, 1.000], mean action: 0.525 [0.000, 1.000], mean observation: 0.321 [-1.201, 2.418], loss: 6.349550, mean_absolute_error: 41.470497, mean_q: 83.358948\n",
      " 22035/50000: episode: 160, duration: 1.109s, episode steps: 200, steps per second: 180, episode reward: 200.000, mean reward: 1.000 [1.000, 1.000], mean action: 0.470 [0.000, 1.000], mean observation: -0.219 [-2.179, 1.095], loss: 4.603969, mean_absolute_error: 41.249924, mean_q: 82.953438\n",
      " 22186/50000: episode: 161, duration: 0.838s, episode steps: 151, steps per second: 180, episode reward: 151.000, mean reward: 1.000 [1.000, 1.000], mean action: 0.530 [0.000, 1.000], mean observation: 0.258 [-0.995, 1.629], loss: 6.978096, mean_absolute_error: 41.515747, mean_q: 83.342369\n",
      " 22357/50000: episode: 162, duration: 0.929s, episode steps: 171, steps per second: 184, episode reward: 171.000, mean reward: 1.000 [1.000, 1.000], mean action: 0.532 [0.000, 1.000], mean observation: 0.351 [-1.014, 2.402], loss: 6.413392, mean_absolute_error: 41.390522, mean_q: 83.086426\n",
      " 22557/50000: episode: 163, duration: 1.064s, episode steps: 200, steps per second: 188, episode reward: 200.000, mean reward: 1.000 [1.000, 1.000], mean action: 0.530 [0.000, 1.000], mean observation: 0.300 [-1.050, 2.349], loss: 8.780384, mean_absolute_error: 41.210014, mean_q: 82.618271\n",
      " 22757/50000: episode: 164, duration: 1.498s, episode steps: 200, steps per second: 133, episode reward: 200.000, mean reward: 1.000 [1.000, 1.000], mean action: 0.505 [0.000, 1.000], mean observation: 0.060 [-0.936, 1.153], loss: 5.520057, mean_absolute_error: 41.229000, mean_q: 82.820160\n",
      " 22957/50000: episode: 165, duration: 1.706s, episode steps: 200, steps per second: 117, episode reward: 200.000, mean reward: 1.000 [1.000, 1.000], mean action: 0.485 [0.000, 1.000], mean observation: -0.316 [-2.173, 1.533], loss: 9.651157, mean_absolute_error: 40.954788, mean_q: 82.111282\n",
      " 23157/50000: episode: 166, duration: 1.528s, episode steps: 200, steps per second: 131, episode reward: 200.000, mean reward: 1.000 [1.000, 1.000], mean action: 0.510 [0.000, 1.000], mean observation: 0.154 [-1.329, 1.450], loss: 8.072779, mean_absolute_error: 40.824364, mean_q: 82.000847\n",
      " 23357/50000: episode: 167, duration: 1.180s, episode steps: 200, steps per second: 170, episode reward: 200.000, mean reward: 1.000 [1.000, 1.000], mean action: 0.525 [0.000, 1.000], mean observation: 0.198 [-1.028, 1.857], loss: 6.464458, mean_absolute_error: 40.692627, mean_q: 81.777946\n",
      " 23557/50000: episode: 168, duration: 1.265s, episode steps: 200, steps per second: 158, episode reward: 200.000, mean reward: 1.000 [1.000, 1.000], mean action: 0.515 [0.000, 1.000], mean observation: 0.161 [-1.040, 1.722], loss: 7.052908, mean_absolute_error: 41.148438, mean_q: 82.571404\n",
      " 23757/50000: episode: 169, duration: 1.899s, episode steps: 200, steps per second: 105, episode reward: 200.000, mean reward: 1.000 [1.000, 1.000], mean action: 0.495 [0.000, 1.000], mean observation: -0.132 [-1.327, 1.004], loss: 5.916014, mean_absolute_error: 40.981602, mean_q: 82.253265\n",
      " 23957/50000: episode: 170, duration: 1.169s, episode steps: 200, steps per second: 171, episode reward: 200.000, mean reward: 1.000 [1.000, 1.000], mean action: 0.525 [0.000, 1.000], mean observation: 0.231 [-0.876, 2.238], loss: 11.056999, mean_absolute_error: 41.003330, mean_q: 82.090355\n",
      " 24146/50000: episode: 171, duration: 1.298s, episode steps: 189, steps per second: 146, episode reward: 189.000, mean reward: 1.000 [1.000, 1.000], mean action: 0.476 [0.000, 1.000], mean observation: -0.246 [-1.916, 1.330], loss: 4.176800, mean_absolute_error: 40.499798, mean_q: 81.430084\n",
      " 24311/50000: episode: 172, duration: 1.052s, episode steps: 165, steps per second: 157, episode reward: 165.000, mean reward: 1.000 [1.000, 1.000], mean action: 0.533 [0.000, 1.000], mean observation: 0.291 [-1.073, 2.060], loss: 5.945413, mean_absolute_error: 40.856060, mean_q: 82.048683\n",
      " 24511/50000: episode: 173, duration: 1.302s, episode steps: 200, steps per second: 154, episode reward: 200.000, mean reward: 1.000 [1.000, 1.000], mean action: 0.495 [0.000, 1.000], mean observation: -0.068 [-1.671, 1.710], loss: 4.895273, mean_absolute_error: 40.579647, mean_q: 81.519806\n",
      " 24711/50000: episode: 174, duration: 1.082s, episode steps: 200, steps per second: 185, episode reward: 200.000, mean reward: 1.000 [1.000, 1.000], mean action: 0.520 [0.000, 1.000], mean observation: 0.147 [-1.028, 1.443], loss: 7.772612, mean_absolute_error: 40.378658, mean_q: 80.960594\n",
      " 24889/50000: episode: 175, duration: 1.289s, episode steps: 178, steps per second: 138, episode reward: 178.000, mean reward: 1.000 [1.000, 1.000], mean action: 0.528 [0.000, 1.000], mean observation: 0.303 [-0.979, 2.221], loss: 4.819441, mean_absolute_error: 40.558659, mean_q: 81.431183\n",
      " 25089/50000: episode: 176, duration: 1.486s, episode steps: 200, steps per second: 135, episode reward: 200.000, mean reward: 1.000 [1.000, 1.000], mean action: 0.490 [0.000, 1.000], mean observation: -0.116 [-1.360, 1.408], loss: 6.585639, mean_absolute_error: 40.432545, mean_q: 81.072830\n",
      " 25256/50000: episode: 177, duration: 1.172s, episode steps: 167, steps per second: 142, episode reward: 167.000, mean reward: 1.000 [1.000, 1.000], mean action: 0.533 [0.000, 1.000], mean observation: 0.282 [-1.071, 2.015], loss: 8.107051, mean_absolute_error: 40.048107, mean_q: 80.208153\n"
     ]
    },
    {
     "name": "stdout",
     "output_type": "stream",
     "text": [
      " 25396/50000: episode: 178, duration: 0.838s, episode steps: 140, steps per second: 167, episode reward: 140.000, mean reward: 1.000 [1.000, 1.000], mean action: 0.536 [0.000, 1.000], mean observation: 0.337 [-0.968, 1.846], loss: 3.366908, mean_absolute_error: 39.775383, mean_q: 79.896622\n",
      " 25596/50000: episode: 179, duration: 1.263s, episode steps: 200, steps per second: 158, episode reward: 200.000, mean reward: 1.000 [1.000, 1.000], mean action: 0.505 [0.000, 1.000], mean observation: 0.065 [-0.943, 1.302], loss: 6.021750, mean_absolute_error: 39.864349, mean_q: 79.877365\n",
      " 25796/50000: episode: 180, duration: 1.164s, episode steps: 200, steps per second: 172, episode reward: 200.000, mean reward: 1.000 [1.000, 1.000], mean action: 0.500 [0.000, 1.000], mean observation: -0.097 [-1.037, 1.217], loss: 6.447720, mean_absolute_error: 40.016022, mean_q: 80.274689\n",
      " 25971/50000: episode: 181, duration: 1.379s, episode steps: 175, steps per second: 127, episode reward: 175.000, mean reward: 1.000 [1.000, 1.000], mean action: 0.531 [0.000, 1.000], mean observation: 0.267 [-1.203, 2.026], loss: 5.451939, mean_absolute_error: 39.724613, mean_q: 79.700470\n",
      " 26171/50000: episode: 182, duration: 1.232s, episode steps: 200, steps per second: 162, episode reward: 200.000, mean reward: 1.000 [1.000, 1.000], mean action: 0.500 [0.000, 1.000], mean observation: 0.019 [-1.008, 0.982], loss: 6.840501, mean_absolute_error: 39.553352, mean_q: 79.353630\n",
      " 26371/50000: episode: 183, duration: 1.180s, episode steps: 200, steps per second: 170, episode reward: 200.000, mean reward: 1.000 [1.000, 1.000], mean action: 0.505 [0.000, 1.000], mean observation: -0.007 [-1.020, 1.005], loss: 7.257249, mean_absolute_error: 39.790550, mean_q: 79.722260\n",
      " 26571/50000: episode: 184, duration: 1.151s, episode steps: 200, steps per second: 174, episode reward: 200.000, mean reward: 1.000 [1.000, 1.000], mean action: 0.505 [0.000, 1.000], mean observation: -0.004 [-1.045, 0.993], loss: 5.612115, mean_absolute_error: 39.488739, mean_q: 79.230614\n",
      " 26724/50000: episode: 185, duration: 1.207s, episode steps: 153, steps per second: 127, episode reward: 153.000, mean reward: 1.000 [1.000, 1.000], mean action: 0.529 [0.000, 1.000], mean observation: 0.341 [-0.894, 1.957], loss: 5.998514, mean_absolute_error: 39.676075, mean_q: 79.550194\n",
      " 26882/50000: episode: 186, duration: 1.313s, episode steps: 158, steps per second: 120, episode reward: 158.000, mean reward: 1.000 [1.000, 1.000], mean action: 0.532 [0.000, 1.000], mean observation: 0.288 [-0.988, 1.834], loss: 4.296652, mean_absolute_error: 40.213352, mean_q: 80.849007\n",
      " 27078/50000: episode: 187, duration: 1.112s, episode steps: 196, steps per second: 176, episode reward: 196.000, mean reward: 1.000 [1.000, 1.000], mean action: 0.520 [0.000, 1.000], mean observation: 0.224 [-1.167, 1.877], loss: 7.833217, mean_absolute_error: 39.812592, mean_q: 79.809822\n",
      " 27276/50000: episode: 188, duration: 1.299s, episode steps: 198, steps per second: 152, episode reward: 198.000, mean reward: 1.000 [1.000, 1.000], mean action: 0.520 [0.000, 1.000], mean observation: 0.203 [-1.155, 1.457], loss: 4.504387, mean_absolute_error: 39.496895, mean_q: 79.429306\n",
      " 27407/50000: episode: 189, duration: 1.197s, episode steps: 131, steps per second: 109, episode reward: 131.000, mean reward: 1.000 [1.000, 1.000], mean action: 0.527 [0.000, 1.000], mean observation: 0.265 [-1.045, 1.618], loss: 7.349607, mean_absolute_error: 39.906086, mean_q: 80.144623\n",
      " 27607/50000: episode: 190, duration: 1.519s, episode steps: 200, steps per second: 132, episode reward: 200.000, mean reward: 1.000 [1.000, 1.000], mean action: 0.520 [0.000, 1.000], mean observation: 0.157 [-1.531, 1.512], loss: 7.975294, mean_absolute_error: 40.055222, mean_q: 80.466820\n",
      " 27787/50000: episode: 191, duration: 1.263s, episode steps: 180, steps per second: 142, episode reward: 180.000, mean reward: 1.000 [1.000, 1.000], mean action: 0.522 [0.000, 1.000], mean observation: 0.252 [-1.301, 1.637], loss: 6.302193, mean_absolute_error: 40.120987, mean_q: 80.534668\n"
     ]
    }
   ],
   "source": [
    "# Training\n",
    "dqn.fit(env, nb_steps=50000, visualize=True, verbose=2)\n",
    "print(\"Training Done!\")"
   ]
  },
  {
   "cell_type": "code",
   "execution_count": null,
   "metadata": {},
   "outputs": [],
   "source": [
    "# Evaluation\n",
    "# Finally, evaluate our algorithm for 5 episodes.\n",
    "dqn.test(env, nb_episodes=5, visualize=True)\n",
    "print(\"Testing Done!\")"
   ]
  },
  {
   "cell_type": "code",
   "execution_count": null,
   "metadata": {},
   "outputs": [],
   "source": [
    "# Exporting\n",
    "dqn.save_weights('dqn_{}_weights.h5f'.format(ENV_NAME), overwrite=True)\n",
    "print(\"Saving Done!\")"
   ]
  }
 ],
 "metadata": {
  "kernelspec": {
   "display_name": "krl",
   "language": "python",
   "name": "krl"
  },
  "language_info": {
   "codemirror_mode": {
    "name": "ipython",
    "version": 3
   },
   "file_extension": ".py",
   "mimetype": "text/x-python",
   "name": "python",
   "nbconvert_exporter": "python",
   "pygments_lexer": "ipython3",
   "version": "3.6.7"
  }
 },
 "nbformat": 4,
 "nbformat_minor": 2
}
